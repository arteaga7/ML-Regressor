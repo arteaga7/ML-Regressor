{
 "cells": [
  {
   "cell_type": "markdown",
   "id": "b20a1cdd",
   "metadata": {},
   "source": [
    "## Make predictions in production"
   ]
  },
  {
   "cell_type": "code",
   "execution_count": null,
   "id": "87387050",
   "metadata": {},
   "outputs": [
    {
     "name": "stdout",
     "output_type": "stream",
     "text": [
      "Model loaded successfully.\n"
     ]
    }
   ],
   "source": [
    "# Load the scaler, label encoders, and trained model\n",
    "label_Encoder = joblib.load('../models/gr_label_enc.pkl')\n",
    "scaler = joblib.load('../models/gr_scaler.pkl')\n",
    "loaded_model = joblib.load('../models/gr_gradient_boosting_model.joblib')\n",
    "print(\"Model loaded successfully.\")"
   ]
  },
  {
   "cell_type": "code",
   "execution_count": null,
   "id": "e0f644cd",
   "metadata": {},
   "outputs": [
    {
     "name": "stdout",
     "output_type": "stream",
     "text": [
      "   target  # of cylinders  Engine displacement  Engine power  Weight  \\\n",
      "0      13               8                    5         130.0    1589   \n",
      "1      16               8                    6         165.0    1675   \n",
      "2      13               8                    5         150.0    1559   \n",
      "\n",
      "   Acceleration  Year Origin  \n",
      "0          12.0  2005     US  \n",
      "1          11.5  2005     US  \n",
      "2          11.0  2005     US  \n"
     ]
    }
   ],
   "source": [
    "# Read DataFrame\n",
    "df = pd.read_csv('../data/processed/auto_cons_us_processed.csv', sep=',', header=0)\n",
    "\n",
    "# Show DataFrame\n",
    "print(df.head(3))"
   ]
  },
  {
   "cell_type": "code",
   "execution_count": null,
   "id": "fda67490",
   "metadata": {},
   "outputs": [],
   "source": [
    "# Prediction 1, the result is aproximately 16\n",
    "prediction1 = {\n",
    "'# of cylinders':8,\n",
    "'Engine displacement':6,\n",
    "'Engine power':160,\n",
    "'Weight':1670,\n",
    "'Acceleration':12,\n",
    "'Year':2005,\n",
    "'Origin': 'US'\n",
    "}"
   ]
  },
  {
   "cell_type": "code",
   "execution_count": null,
   "id": "b9b2f18e",
   "metadata": {},
   "outputs": [],
   "source": [
    "def preprocess_data(df):\n",
    "    '''Function to preprocess new data for prediction'''\n",
    "    # Apply the imported label_Encoder\n",
    "    for col, encoder in label_Encoder.items():\n",
    "        if col in df.select_dtypes(include=['object']).columns:\n",
    "            try:\n",
    "                df[col] = encoder.transform(df[col])\n",
    "            except ValueError as e:\n",
    "                raise ValueError(f\"Error al transformar la columna '{col}'. \"\n",
    "        f\"Asegúrate de que los valores en los nuevos datos coincidan con los datos de entrenamiento. \"\n",
    "        f\"Detalles: {e}\"\n",
    "                )\n",
    "    # Aplicar escalado usando el scaler guardado\n",
    "    df = scaler.transform(df)\n",
    "    return df\n",
    "\n",
    "def make_prediction(single_case):\n",
    "    # Convertir el caso único en DataFrame\n",
    "    single_case_df = pd.DataFrame(single_case)\n",
    "    # Preprocesar el caso único\n",
    "    processed_single_case = preprocess_data(single_case_df)\n",
    "\n",
    "    prediction = loaded_model.predict(processed_single_case)\n",
    "    \n",
    "    print(f'Predicción: {prediction[0]:.2f}')"
   ]
  }
 ],
 "metadata": {
  "language_info": {
   "name": "python"
  }
 },
 "nbformat": 4,
 "nbformat_minor": 5
}
