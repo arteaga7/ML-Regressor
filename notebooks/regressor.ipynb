{
 "cells": [
  {
   "cell_type": "markdown",
   "id": "ad942dbb",
   "metadata": {},
   "source": [
    "# Machine Learning (Scikit-learn, XGBoost, LightGBM, CatBoost): Regressor\n",
    "\n",
    "In this document, the performance of 8 different Machine Learning (ML) algorithms are\n",
    "compared to solve the regression problem, this is, to predict the value of a continuous variable, in this case, it is the fuel consumption of a car. The following algorithms are implemented:\n",
    "\n",
    "Algorithm 1: Lasso (Linear regressions with L1 regularization).\n",
    "\n",
    "Algorithm 2: Ridge (Linear regressions with L2 regularization).\n",
    "\n",
    "Algorithm 3: DecisionTreeRegressor.\n",
    "\n",
    "Algorithm 4: RandomForestRegressor.\n",
    "\n",
    "Algorithm 5: GradientBoostingRegressor.\n",
    "\n",
    "Algorithm 6: XGBRegressor (XGBoost library).\n",
    "\n",
    "Algorithm 7: LGBMRegressor (LightGBM library).\n",
    "\n",
    "Algorithm 8: CatBoostRegressor (CatBoost library)."
   ]
  },
  {
   "cell_type": "markdown",
   "id": "8565d822",
   "metadata": {},
   "source": [
    "Finally, the best model is trained and saved to make predictions in production."
   ]
  },
  {
   "cell_type": "markdown",
   "id": "eae5ad2b",
   "metadata": {},
   "source": [
    "## Exploratory data analysis (EDA)"
   ]
  },
  {
   "cell_type": "code",
   "execution_count": 141,
   "id": "22212815",
   "metadata": {},
   "outputs": [],
   "source": [
    "# Import libraries\n",
    "import pandas as pd\n",
    "import numpy as np\n",
    "import matplotlib.pyplot as plt\n",
    "import seaborn as sns\n",
    "from sklearn.preprocessing import StandardScaler\n",
    "from sklearn.model_selection import train_test_split\n",
    "from sklearn.linear_model import Lasso, Ridge\n",
    "from sklearn.tree import DecisionTreeRegressor\n",
    "from sklearn.ensemble import RandomForestRegressor, GradientBoostingRegressor\n",
    "from sklearn.metrics import mean_absolute_error, mean_squared_error, r2_score\n",
    "from sklearn.preprocessing import LabelEncoder\n",
    "import joblib\n",
    "from xgboost import XGBRegressor\n",
    "from catboost import CatBoostRegressor\n",
    "from lightgbm import LGBMRegressor"
   ]
  },
  {
   "cell_type": "code",
   "execution_count": 142,
   "id": "ec65717f",
   "metadata": {},
   "outputs": [
    {
     "data": {
      "text/html": [
       "<div>\n",
       "<style scoped>\n",
       "    .dataframe tbody tr th:only-of-type {\n",
       "        vertical-align: middle;\n",
       "    }\n",
       "\n",
       "    .dataframe tbody tr th {\n",
       "        vertical-align: top;\n",
       "    }\n",
       "\n",
       "    .dataframe thead th {\n",
       "        text-align: right;\n",
       "    }\n",
       "</style>\n",
       "<table border=\"1\" class=\"dataframe\">\n",
       "  <thead>\n",
       "    <tr style=\"text-align: right;\">\n",
       "      <th></th>\n",
       "      <th>Fuel consumption</th>\n",
       "      <th># of cylinders</th>\n",
       "      <th>Engine displacement</th>\n",
       "      <th>Engine power</th>\n",
       "      <th>Weight</th>\n",
       "      <th>Acceleration</th>\n",
       "      <th>Year</th>\n",
       "      <th>Origin</th>\n",
       "    </tr>\n",
       "  </thead>\n",
       "  <tbody>\n",
       "    <tr>\n",
       "      <th>0</th>\n",
       "      <td>13</td>\n",
       "      <td>8</td>\n",
       "      <td>5</td>\n",
       "      <td>130.0</td>\n",
       "      <td>1589</td>\n",
       "      <td>12.0</td>\n",
       "      <td>2005</td>\n",
       "      <td>US</td>\n",
       "    </tr>\n",
       "    <tr>\n",
       "      <th>1</th>\n",
       "      <td>16</td>\n",
       "      <td>8</td>\n",
       "      <td>6</td>\n",
       "      <td>165.0</td>\n",
       "      <td>1675</td>\n",
       "      <td>11.5</td>\n",
       "      <td>2005</td>\n",
       "      <td>US</td>\n",
       "    </tr>\n",
       "    <tr>\n",
       "      <th>2</th>\n",
       "      <td>13</td>\n",
       "      <td>8</td>\n",
       "      <td>5</td>\n",
       "      <td>150.0</td>\n",
       "      <td>1559</td>\n",
       "      <td>11.0</td>\n",
       "      <td>2005</td>\n",
       "      <td>US</td>\n",
       "    </tr>\n",
       "  </tbody>\n",
       "</table>\n",
       "</div>"
      ],
      "text/plain": [
       "   Fuel consumption  # of cylinders  Engine displacement  Engine power  \\\n",
       "0                13               8                    5         130.0   \n",
       "1                16               8                    6         165.0   \n",
       "2                13               8                    5         150.0   \n",
       "\n",
       "   Weight  Acceleration  Year Origin  \n",
       "0    1589          12.0  2005     US  \n",
       "1    1675          11.5  2005     US  \n",
       "2    1559          11.0  2005     US  "
      ]
     },
     "execution_count": 142,
     "metadata": {},
     "output_type": "execute_result"
    }
   ],
   "source": [
    "# Read DataFrame\n",
    "df = pd.read_csv('../data/raw/auto_cons_us.csv', sep=',', header=0)\n",
    "\n",
    "# Show DataFrame\n",
    "df.head(3)"
   ]
  },
  {
   "cell_type": "markdown",
   "id": "1e901b4f",
   "metadata": {},
   "source": [
    "Column 'Fuel consumption' will be renamed."
   ]
  },
  {
   "cell_type": "code",
   "execution_count": 143,
   "id": "fe37426d",
   "metadata": {},
   "outputs": [
    {
     "name": "stdout",
     "output_type": "stream",
     "text": [
      "<class 'pandas.core.frame.DataFrame'>\n",
      "RangeIndex: 398 entries, 0 to 397\n",
      "Data columns (total 8 columns):\n",
      " #   Column               Non-Null Count  Dtype  \n",
      "---  ------               --------------  -----  \n",
      " 0   target               398 non-null    int64  \n",
      " 1   # of cylinders       398 non-null    int64  \n",
      " 2   Engine displacement  398 non-null    int64  \n",
      " 3   Engine power         392 non-null    float64\n",
      " 4   Weight               398 non-null    int64  \n",
      " 5   Acceleration         398 non-null    float64\n",
      " 6   Year                 398 non-null    int64  \n",
      " 7   Origin               398 non-null    object \n",
      "dtypes: float64(2), int64(5), object(1)\n",
      "memory usage: 25.0+ KB\n"
     ]
    }
   ],
   "source": [
    "# Rename column\n",
    "df = df.rename(columns={'Fuel consumption': 'target'})\n",
    "\n",
    "# DataFrame information\n",
    "df.info()"
   ]
  },
  {
   "cell_type": "markdown",
   "id": "1a393486",
   "metadata": {},
   "source": [
    "Format of all columns is correct.\n",
    "\n",
    "## Data preprocessing\n",
    "Data preprocessing consist of:\n",
    "1. Filling null values and dropping duplicates.\n",
    "2. Processing outliers and multicollinearity.\n",
    "3. Converting categorical variables into binary ones.\n",
    "4. Standardizing (scaling) the data.\n",
    "\n",
    "### Fill null values and drop duplicates"
   ]
  },
  {
   "cell_type": "code",
   "execution_count": 144,
   "id": "dc3f637e",
   "metadata": {},
   "outputs": [
    {
     "data": {
      "text/plain": [
       "target                 0\n",
       "# of cylinders         0\n",
       "Engine displacement    0\n",
       "Engine power           6\n",
       "Weight                 0\n",
       "Acceleration           0\n",
       "Year                   0\n",
       "Origin                 0\n",
       "dtype: int64"
      ]
     },
     "execution_count": 144,
     "metadata": {},
     "output_type": "execute_result"
    }
   ],
   "source": [
    "# Verify the number of null values per column\n",
    "df.isna().sum()"
   ]
  },
  {
   "cell_type": "markdown",
   "id": "18bb4246",
   "metadata": {},
   "source": [
    "There are a few null values, they can be deleted."
   ]
  },
  {
   "cell_type": "code",
   "execution_count": 145,
   "id": "13b93649",
   "metadata": {},
   "outputs": [
    {
     "data": {
      "text/plain": [
       "target                 0\n",
       "# of cylinders         0\n",
       "Engine displacement    0\n",
       "Engine power           0\n",
       "Weight                 0\n",
       "Acceleration           0\n",
       "Year                   0\n",
       "Origin                 0\n",
       "dtype: int64"
      ]
     },
     "execution_count": 145,
     "metadata": {},
     "output_type": "execute_result"
    }
   ],
   "source": [
    "# Delete null values\n",
    "df = df.dropna()\n",
    "\n",
    "# Verify the number of null values per column\n",
    "df.isna().sum()"
   ]
  },
  {
   "cell_type": "code",
   "execution_count": 146,
   "id": "32441831",
   "metadata": {},
   "outputs": [
    {
     "name": "stdout",
     "output_type": "stream",
     "text": [
      "0\n"
     ]
    }
   ],
   "source": [
    "# Delete duplicate rows\n",
    "df = df.drop_duplicates().reset_index(drop=True)\n",
    "\n",
    "# Show duplicate rows\n",
    "print(df.duplicated().sum())"
   ]
  },
  {
   "cell_type": "markdown",
   "id": "fb2b0d94",
   "metadata": {},
   "source": [
    "### Process outliers and multicollinearity\n",
    "Outliers are deleted (from percentile 5 to the percentile 95)."
   ]
  },
  {
   "cell_type": "code",
   "execution_count": 147,
   "id": "c46b0b7c",
   "metadata": {},
   "outputs": [],
   "source": [
    "# Limit outliers to percentile 5 or percentile 95\n",
    "for col in df.drop(['target','Origin'],axis=1).columns:\n",
    "    percentile05 = df[col].quantile(0.05)\n",
    "    percentile95 = df[col].quantile(0.95)\n",
    "for index,value in df[col].items():\n",
    "    if value < percentile05:\n",
    "        df.loc[index,col] = percentile05\n",
    "    if value > percentile95:\n",
    "        df.loc[index,col] = percentile95"
   ]
  },
  {
   "cell_type": "markdown",
   "id": "1956a8ad",
   "metadata": {},
   "source": [
    "A box plot is shown to verify if there exist outliers (no considerable outliers)."
   ]
  },
  {
   "cell_type": "code",
   "execution_count": 148,
   "id": "a4feff66",
   "metadata": {},
   "outputs": [
    {
     "data": {
      "image/png": "[encoded data removed]",
      "text/plain": [
       "<Figure size 800x400 with 1 Axes>"
      ]
     },
     "metadata": {},
     "output_type": "display_data"
    }
   ],
   "source": [
    "# Box plot\n",
    "df.drop('target',axis=1).plot(kind='box', figsize=[8,4],\n",
    "title='Distribution of numeric features', xlabel='Features', ylabel='Value')\n",
    "plt.xticks(rotation=45)\n",
    "plt.show()"
   ]
  },
  {
   "cell_type": "markdown",
   "id": "c22b5391",
   "metadata": {},
   "source": [
    "In order to see multicollinearity, a heatmap is shown (excluding column 'Origin')."
   ]
  },
  {
   "cell_type": "code",
   "execution_count": 149,
   "id": "d4e0e1c2",
   "metadata": {},
   "outputs": [
    {
     "data": {
      "image/png": "[encoded data removed]",
      "text/plain": [
       "<Figure size 1200x1200 with 2 Axes>"
      ]
     },
     "metadata": {},
     "output_type": "display_data"
    }
   ],
   "source": [
    "# Correlation matrix\n",
    "cm = df.drop('Origin',axis=1).corr()\n",
    "\n",
    "# Heatmap\n",
    "plt.figure(figsize = (12,12))\n",
    "sns.heatmap(cm, annot=True, square=True, cmap='coolwarm', fmt='.3f',\n",
    "annot_kws={\"size\": 10}, linewidths=0.5, linecolor='black')\n",
    "plt.show()"
   ]
  },
  {
   "cell_type": "markdown",
   "id": "584be6af",
   "metadata": {},
   "source": [
    "Column 'target' is correlated to all columns and '# of cylinders' is correlated to\t'Engine displacement'.\n",
    "\n",
    "**Remark:** Processed data is now saved."
   ]
  },
  {
   "cell_type": "code",
   "execution_count": 150,
   "id": "69e93478",
   "metadata": {},
   "outputs": [
    {
     "name": "stdout",
     "output_type": "stream",
     "text": [
      "<class 'pandas.core.frame.DataFrame'>\n",
      "RangeIndex: 392 entries, 0 to 391\n",
      "Data columns (total 8 columns):\n",
      " #   Column               Non-Null Count  Dtype  \n",
      "---  ------               --------------  -----  \n",
      " 0   target               392 non-null    int64  \n",
      " 1   # of cylinders       392 non-null    int64  \n",
      " 2   Engine displacement  392 non-null    int64  \n",
      " 3   Engine power         392 non-null    float64\n",
      " 4   Weight               392 non-null    int64  \n",
      " 5   Acceleration         392 non-null    float64\n",
      " 6   Year                 392 non-null    int64  \n",
      " 7   Origin               392 non-null    object \n",
      "dtypes: float64(2), int64(5), object(1)\n",
      "memory usage: 24.6+ KB\n"
     ]
    }
   ],
   "source": [
    "# Save processed data\n",
    "df.to_csv('../data/processed/auto_cons_us_processed.csv', index=False)\n",
    "\n",
    "# DataFrame information\n",
    "df.info()"
   ]
  },
  {
   "cell_type": "markdown",
   "id": "9f70b096",
   "metadata": {},
   "source": [
    "### Convert categorical variables"
   ]
  },
  {
   "cell_type": "code",
   "execution_count": 151,
   "id": "0935c2bf",
   "metadata": {},
   "outputs": [
    {
     "name": "stdout",
     "output_type": "stream",
     "text": [
      "Index(['target', '# of cylinders', 'Engine displacement', 'Engine power',\n",
      "       'Weight', 'Acceleration', 'Year', 'Origin'],\n",
      "      dtype='object')\n",
      "   target  # of cylinders  Engine displacement  Engine power  Weight  \\\n",
      "0      13               8                    5         130.0    1589   \n",
      "1      16               8                    6         165.0    1675   \n",
      "2      13               8                    5         150.0    1559   \n",
      "\n",
      "   Acceleration  Year  Origin_Asia  Origin_Europe  Origin_US  \n",
      "0          12.0  2005        False          False       True  \n",
      "1          11.5  2005        False          False       True  \n",
      "2          11.0  2005        False          False       True  \n"
     ]
    }
   ],
   "source": [
    "# Show the columns of the DataFrame\n",
    "print(df.columns)\n",
    "\n",
    "# Convert categorical variables to dummy variables\n",
    "df = pd.get_dummies(df)\n",
    "print(df.head(3))"
   ]
  },
  {
   "cell_type": "markdown",
   "id": "5fb71579",
   "metadata": {},
   "source": [
    "Two columns were added.\n",
    "\n",
    "### Data standarization"
   ]
  },
  {
   "cell_type": "code",
   "execution_count": 152,
   "id": "5da1a101",
   "metadata": {},
   "outputs": [],
   "source": [
    "# Obtain characteristic matrix (x) and objective variable (y)\n",
    "x = df.drop('target', axis=1)\n",
    "y = df['target']\n",
    "\n",
    "# Split the dataset into training and testing sets\n",
    "x_train, x_test, y_train, y_test = train_test_split(\n",
    "x, y, test_size=0.2, random_state=0)\n",
    "\n",
    "# Train the StandardScaler by using 'x_train', then transform 'x_train' and 'x_test'\n",
    "scaler = StandardScaler()\n",
    "x_train_st = scaler.fit_transform(x_train)\n",
    "x_test_st = scaler.transform(x_test)"
   ]
  },
  {
   "cell_type": "markdown",
   "id": "59fa1747",
   "metadata": {},
   "source": [
    "## Models belonging to Scikit-Learn library\n",
    "Five different models will be created."
   ]
  },
  {
   "cell_type": "code",
   "execution_count": 153,
   "id": "0ebe5d9c",
   "metadata": {},
   "outputs": [],
   "source": [
    "# Define the regression models\n",
    "models = [Lasso(), Ridge(), DecisionTreeRegressor(),\n",
    "          RandomForestRegressor(), GradientBoostingRegressor()]\n",
    "\n",
    "def mape(y_true, y_pred):\n",
    "    '''Function to calculate Mean Absolute Percentage Error (MAPE)'''\n",
    "    y_error = y_true - y_pred\n",
    "    y_error_abs = np.array([abs(x) for x in y_error])\n",
    "    y_true_abs = np.array([abs(x) for x in y_true])\n",
    "    perc_error_abs = y_error_abs / y_true_abs\n",
    "    mape = perc_error_abs.sum() / len(y_true)\n",
    "    return mape\n",
    "\n",
    "def make_prediction(m, x_train, y_train, x_test, y_test):\n",
    "    m.fit(x_train, y_train)\n",
    "    y_pred = m.predict(x_test)\n",
    "    print('MAE:{:.2f} MSE:{:.2f} MAPE:{:.2f} R2:{:.2%}'\n",
    "          .format(mean_absolute_error(y_test, y_pred),\n",
    "                    mean_squared_error(y_test, y_pred),\n",
    "                    mape(y_test, y_pred),\n",
    "                    r2_score(y_test, y_pred)))"
   ]
  },
  {
   "cell_type": "code",
   "execution_count": 154,
   "id": "493d88a1",
   "metadata": {},
   "outputs": [
    {
     "name": "stdout",
     "output_type": "stream",
     "text": [
      "Lasso()\n",
      "MAE:1.41 MSE:3.53 MAPE:0.14 R2:78.28%\n",
      "Ridge()\n",
      "MAE:1.05 MSE:1.93 MAPE:0.09 R2:88.14%\n",
      "DecisionTreeRegressor()\n",
      "MAE:1.18 MSE:3.00 MAPE:0.10 R2:81.53%\n",
      "RandomForestRegressor()\n",
      "MAE:0.91 MSE:1.58 MAPE:0.08 R2:90.26%\n",
      "GradientBoostingRegressor()\n",
      "MAE:0.95 MSE:1.63 MAPE:0.08 R2:89.96%\n"
     ]
    }
   ],
   "source": [
    "# Iterate through the models and make predictionsRandomForestRegress\n",
    "for i in models:\n",
    "    print(i)\n",
    "    make_prediction(i, x_train_st, y_train, x_test_st, y_test)"
   ]
  },
  {
   "cell_type": "markdown",
   "id": "a4165403",
   "metadata": {},
   "source": [
    "**Conclusion:** 'Random Forest Regressor' and 'Gradient Boosting Regressor' obtained better results. Both will be compared with the gradient boosting models in the next section.\n",
    "\n",
    "**Remark:** The column names and feature importances coefficients (for Random Forest Regressor)\n",
    "are displayed to show which features most impact the algorithm's verdict."
   ]
  },
  {
   "cell_type": "code",
   "execution_count": 155,
   "id": "fe02958b",
   "metadata": {},
   "outputs": [
    {
     "name": "stdout",
     "output_type": "stream",
     "text": [
      "Index(['# of cylinders', 'Engine displacement', 'Engine power', 'Weight',\n",
      "       'Acceleration', 'Year', 'Origin_Asia', 'Origin_Europe', 'Origin_US'],\n",
      "      dtype='object')\n",
      "[0.04295356 0.12751178 0.19999839 0.51990818 0.03240075 0.07376656\n",
      " 0.00097146 0.00103255 0.00145676]\n"
     ]
    }
   ],
   "source": [
    "# Show features\n",
    "print(x.columns)\n",
    "\n",
    "# Feature weights\n",
    "print(models[3].feature_importances_)"
   ]
  },
  {
   "cell_type": "markdown",
   "id": "df8e4326",
   "metadata": {},
   "source": [
    "Definitively, 'Weight' (feature importances coefficient = 0.5) is the most important factor that impacts the fuel consumption."
   ]
  },
  {
   "cell_type": "markdown",
   "id": "c3824478",
   "metadata": {},
   "source": [
    "## Models with Gradient Boosting that do not belong to Scikit-Learn library"
   ]
  },
  {
   "cell_type": "code",
   "execution_count": 156,
   "id": "b70254d6",
   "metadata": {},
   "outputs": [
    {
     "name": "stdout",
     "output_type": "stream",
     "text": [
      "   target  # of cylinders  Engine displacement  Engine power  Weight  \\\n",
      "0      13               8                    5         130.0    1589   \n",
      "1      16               8                    6         165.0    1675   \n",
      "2      13               8                    5         150.0    1559   \n",
      "\n",
      "   Acceleration  Year Origin  \n",
      "0          12.0  2005     US  \n",
      "1          11.5  2005     US  \n",
      "2          11.0  2005     US  \n"
     ]
    }
   ],
   "source": [
    "# Read DataFrame\n",
    "df = pd.read_csv('../data/processed/auto_cons_us_processed.csv', sep=',', header=0)\n",
    "\n",
    "# Show DataFrame\n",
    "print(df.head(3))"
   ]
  },
  {
   "cell_type": "markdown",
   "id": "9b730922",
   "metadata": {},
   "source": [
    "Ensemble models like RandomForestRegressor and XGBRegressor work better with label encoding, so label encoding will be implemented in this section."
   ]
  },
  {
   "cell_type": "code",
   "execution_count": 157,
   "id": "d628558f",
   "metadata": {},
   "outputs": [
    {
     "data": {
      "text/plain": [
       "['../models/rg_label_enc.pkl']"
      ]
     },
     "execution_count": 157,
     "metadata": {},
     "output_type": "execute_result"
    }
   ],
   "source": [
    "label_encoders = {}\n",
    "\n",
    "# Apply LabelEncoder to categorical columns\n",
    "for col in df.select_dtypes(include=['object']).columns:\n",
    "    encoder = LabelEncoder()\n",
    "    df[col] = encoder.fit_transform(df[col])\n",
    "    label_encoders[col] = encoder\n",
    "\n",
    "# Save label encoders\n",
    "joblib.dump(label_encoders, '../models/rg_label_enc.pkl')"
   ]
  },
  {
   "cell_type": "code",
   "execution_count": 158,
   "id": "c8006e53",
   "metadata": {},
   "outputs": [
    {
     "data": {
      "text/plain": [
       "['../models/rg_scaler.pkl']"
      ]
     },
     "execution_count": 158,
     "metadata": {},
     "output_type": "execute_result"
    }
   ],
   "source": [
    "# Obtain characteristic matrix (x) and objective variable (y)\n",
    "x = df.drop('target', axis=1)\n",
    "y = df['target']\n",
    "\n",
    "# Split the dataset into training and testing sets\n",
    "x_train, x_test, y_train, y_test = train_test_split(\n",
    "x, y, test_size=0.2, random_state=0)\n",
    "\n",
    "# Train the StandardScaler by using 'x_train', then transform 'x_train' and 'x_test'\n",
    "scaler = StandardScaler()\n",
    "x_train_st = scaler.fit_transform(x_train)\n",
    "x_test_st = scaler.transform(x_test)\n",
    "\n",
    "# Save scaler\n",
    "joblib.dump(scaler, '../models/rg_scaler.pkl')"
   ]
  },
  {
   "cell_type": "code",
   "execution_count": 159,
   "metadata": {},
   "outputs": [],
   "source": [
    "# Define the regression models\n",
    "models = [RandomForestRegressor(criterion='squared_error',\n",
    "                                max_depth=30,n_estimators=100, random_state=0),\n",
    "          GradientBoostingRegressor(loss='squared_error', random_state=0),\n",
    "          XGBRegressor(objective='reg:squarederror',\n",
    "                       n_estimators=100, learning_rate=0.1, random_state=0),\n",
    "          LGBMRegressor(objective='regression', metric='rmse', verbose=0,\n",
    "                        n_estimators=10, learning_rate=0.1, random_state=0),\n",
    "          CatBoostRegressor(loss_function=\"RMSE\", iterations=50, verbose=10,\n",
    "                            depth=10, cat_features=None, random_state=0),\n",
    "          ]"
   ]
  },
  {
   "cell_type": "code",
   "execution_count": 160,
   "metadata": {},
   "outputs": [
    {
     "name": "stdout",
     "output_type": "stream",
     "text": [
      "RandomForestRegressor(max_depth=30, random_state=0)\n",
      "MAE:0.94 MSE:1.64 MAPE:0.08 R2:89.89%\n",
      "GradientBoostingRegressor(random_state=0)\n",
      "MAE:0.93 MSE:1.55 MAPE:0.08 R2:90.44%\n",
      "XGBRegressor(base_score=None, booster=None, callbacks=None,\n",
      "             colsample_bylevel=None, colsample_bynode=None,\n",
      "             colsample_bytree=None, early_stopping_rounds=None,\n",
      "             enable_categorical=False, eval_metric=None, feature_types=None,\n",
      "             gamma=None, gpu_id=None, grow_policy=None, importance_type=None,\n",
      "             interaction_constraints=None, learning_rate=0.1, max_bin=None,\n",
      "             max_cat_threshold=None, max_cat_to_onehot=None,\n",
      "             max_delta_step=None, max_depth=None, max_leaves=None,\n",
      "             min_child_weight=None, missing=nan, monotone_constraints=None,\n",
      "             n_estimators=100, n_jobs=None, num_parallel_tree=None,\n",
      "             predictor=None, random_state=0, ...)\n",
      "MAE:0.97 MSE:1.70 MAPE:0.09 R2:89.52%\n",
      "LGBMRegressor(metric='rmse', n_estimators=10, objective='regression',\n",
      "              random_state=0, verbose=0)\n",
      "[LightGBM] [Warning] Auto-choosing col-wise multi-threading, the overhead of testing was 0.000071 seconds.\n",
      "You can set `force_col_wise=true` to remove the overhead.\n",
      "[LightGBM] [Warning] No further splits with positive gain, best gain: -inf\n",
      "[LightGBM] [Warning] No further splits with positive gain, best gain: -inf\n",
      "[LightGBM] [Warning] No further splits with positive gain, best gain: -inf\n",
      "[LightGBM] [Warning] No further splits with positive gain, best gain: -inf\n",
      "[LightGBM] [Warning] No further splits with positive gain, best gain: -inf\n",
      "[LightGBM] [Warning] No further splits with positive gain, best gain: -inf\n",
      "[LightGBM] [Warning] No further splits with positive gain, best gain: -inf\n",
      "[LightGBM] [Warning] No further splits with positive gain, best gain: -inf\n",
      "[LightGBM] [Warning] No further splits with positive gain, best gain: -inf\n",
      "[LightGBM] [Warning] No further splits with positive gain, best gain: -inf\n",
      "MAE:1.47 MSE:3.64 MAPE:0.14 R2:77.56%\n",
      "<catboost.core.CatBoostRegressor object at 0x7f505e68c700>\n",
      "Learning rate set to 0.389236\n",
      "0:\tlearn: 2.8869052\ttotal: 5.4ms\tremaining: 265ms\n",
      "10:\tlearn: 0.9630132\ttotal: 64ms\tremaining: 227ms\n",
      "20:\tlearn: 0.7445749\ttotal: 112ms\tremaining: 154ms\n",
      "30:\tlearn: 0.5753214\ttotal: 174ms\tremaining: 107ms\n",
      "40:\tlearn: 0.4265220\ttotal: 233ms\tremaining: 51.2ms\n",
      "49:\tlearn: 0.3506965\ttotal: 294ms\tremaining: 0us\n",
      "MAE:0.93 MSE:1.59 MAPE:0.08 R2:90.20%\n"
     ]
    }
   ],
   "source": [
    "# Iterate through the models and make predictionsRandomForestRegress\n",
    "for i in models:\n",
    "    print(i)\n",
    "    make_prediction(i, x_train_st, y_train, x_test_st, y_test)"
   ]
  },
  {
   "cell_type": "markdown",
   "id": "3cda28f9",
   "metadata": {},
   "source": [
    "GradientBoostingRegressor obtained better performance, it will be used to make predictions in production in the next section."
   ]
  },
  {
   "cell_type": "code",
   "execution_count": 161,
   "metadata": {},
   "outputs": [
    {
     "name": "stdout",
     "output_type": "stream",
     "text": [
      "Model saved successfully.\n"
     ]
    }
   ],
   "source": [
    "# Save the trained model\n",
    "joblib.dump(models[1], '../models/rg_GradientBoosting_model.joblib')\n",
    "print(\"Model saved successfully.\")"
   ]
  },
  {
   "cell_type": "markdown",
   "id": "ac0fce0a",
   "metadata": {},
   "source": [
    "## Make predictions in production"
   ]
  },
  {
   "cell_type": "code",
   "execution_count": 162,
   "id": "a516d885",
   "metadata": {},
   "outputs": [],
   "source": [
    "import pandas as pd\n",
    "from sklearn.metrics import mean_absolute_error, mean_squared_error, r2_score\n",
    "from sklearn.preprocessing import LabelEncoder\n",
    "import joblib"
   ]
  },
  {
   "cell_type": "code",
   "execution_count": 163,
   "id": "c5ebf249",
   "metadata": {},
   "outputs": [
    {
     "name": "stdout",
     "output_type": "stream",
     "text": [
      "Model and objects loaded successfully.\n"
     ]
    }
   ],
   "source": [
    "# Load the scaler, label encoders, and trained model\n",
    "label_Encoder = joblib.load('../models/rg_label_enc.pkl')\n",
    "loaded_scaler = joblib.load('../models/rg_scaler.pkl')\n",
    "loaded_model = joblib.load('../models/rg_GradientBoosting_model.joblib')\n",
    "print(\"Model and objects loaded successfully.\")"
   ]
  },
  {
   "cell_type": "code",
   "execution_count": 164,
   "id": "e8d7de56",
   "metadata": {},
   "outputs": [
    {
     "name": "stdout",
     "output_type": "stream",
     "text": [
      "   target  # of cylinders  Engine displacement  Engine power  Weight  \\\n",
      "0      13               8                    5         130.0    1589   \n",
      "1      16               8                    6         165.0    1675   \n",
      "2      13               8                    5         150.0    1559   \n",
      "\n",
      "   Acceleration  Year Origin  \n",
      "0          12.0  2005     US  \n",
      "1          11.5  2005     US  \n",
      "2          11.0  2005     US  \n"
     ]
    }
   ],
   "source": [
    "# Read DataFrame\n",
    "df = pd.read_csv('../data/processed/auto_cons_us_processed.csv', sep=',', header=0)\n",
    "\n",
    "# Show DataFrame\n",
    "print(df.head(3))"
   ]
  },
  {
   "cell_type": "code",
   "execution_count": 165,
   "id": "c9534572",
   "metadata": {},
   "outputs": [],
   "source": [
    "# Prediction 1, the result is aproximately 17\n",
    "prediction1 = {\n",
    "    '# of cylinders': 8,\n",
    "    'Engine displacement': 6,\n",
    "    'Engine power': 170,\n",
    "    'Weight': 1690,\n",
    "    'Acceleration': 12,\n",
    "    'Year': 2005,\n",
    "    'Origin': 'US'\n",
    "}"
   ]
  },
  {
   "cell_type": "code",
   "execution_count": 166,
   "id": "82f351ee",
   "metadata": {},
   "outputs": [],
   "source": [
    "def preprocess_data(df:pd.DataFrame):\n",
    "    '''Function to preprocess new data for prediction'''\n",
    "    # Apply the imported label_Encoder\n",
    "    for col, encoder in label_Encoder.items():\n",
    "        if col in df.select_dtypes(include=['object']).columns:\n",
    "            try:\n",
    "                df[col] = encoder.transform(df[col])\n",
    "            except ValueError as e:\n",
    "                raise ValueError(f\"Error when transforming column '{col}'.\")\n",
    "    # Scale the data\n",
    "    df = loaded_scaler.transform(df)\n",
    "    return df\n",
    "\n",
    "def make_prediction(single_case:dict):\n",
    "    # Convert to DataFrame\n",
    "    single_case_df = pd.DataFrame([single_case])\n",
    "    \n",
    "    # Preprocess the data\n",
    "    processed_single_case = preprocess_data(single_case_df)\n",
    "\n",
    "    # Make prediction\n",
    "    prediction = loaded_model.predict(processed_single_case)\n",
    "    \n",
    "    print(f'Prediction: {prediction[0]:.2f}')"
   ]
  },
  {
   "cell_type": "code",
   "execution_count": 167,
   "id": "f749eb33",
   "metadata": {},
   "outputs": [
    {
     "name": "stdout",
     "output_type": "stream",
     "text": [
      "Prediction: 16.99\n"
     ]
    }
   ],
   "source": [
    "make_prediction(prediction1)"
   ]
  }
 ],
 "metadata": {
  "kernelspec": {
   "display_name": "env (3.8.10)",
   "language": "python",
   "name": "python3"
  },
  "language_info": {
   "codemirror_mode": {
    "name": "ipython",
    "version": 3
   },
   "file_extension": ".py",
   "mimetype": "text/x-python",
   "name": "python",
   "nbconvert_exporter": "python",
   "pygments_lexer": "ipython3",
   "version": "3.8.10"
  }
 },
 "nbformat": 4,
 "nbformat_minor": 5
}
